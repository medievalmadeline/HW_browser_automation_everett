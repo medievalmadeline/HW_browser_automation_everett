{
 "cells": [
  {
   "cell_type": "markdown",
   "id": "a7a6e170",
   "metadata": {},
   "source": [
    "# Browser Automation Homework\n",
    "Due 7-25<br>\n",
    "Completed by: **Madeline Everett**\n",
    "\n",
    "We're going to visit the real estate site Zillow.com and search \"For sale\" listings in a town of your choosing.\n",
    "\n",
    "We'll collect the listings in the first 5 pages (or all if you like), and get a feel for the price range in that town.\n",
    "\n",
    "Ultimately I want to know the median price of that town.\n",
    "\n",
    "Note: if you get asked if you're a bot, just complete the challenges manually."
   ]
  },
  {
   "cell_type": "code",
   "execution_count": 35,
   "id": "b882fd00",
   "metadata": {},
   "outputs": [],
   "source": [
    "import os\n",
    "import random\n",
    "import time\n",
    "import pandas as pd\n",
    "import re\n",
    "\n",
    "from seleniumwire import webdriver\n",
    "from selenium.webdriver.common.by import By\n",
    "from selenium.webdriver.common.action_chains import ActionChains\n",
    "from selenium.webdriver.common.keys import Keys\n",
    "\n",
    "import chromedriver_binary"
   ]
  },
  {
   "cell_type": "code",
   "execution_count": 11,
   "id": "c7ba7db3",
   "metadata": {},
   "outputs": [],
   "source": [
    "os.makedirs('data/', exist_ok=True)"
   ]
  },
  {
   "cell_type": "markdown",
   "id": "7e8561e7",
   "metadata": {},
   "source": [
    "### 1) Open the browser, hide automation signs, visit Zillow.com"
   ]
  },
  {
   "cell_type": "code",
   "execution_count": 12,
   "id": "f9fa11e9",
   "metadata": {},
   "outputs": [],
   "source": [
    "def open_browser():\n",
    "    \"\"\"\n",
    "    Opens a new automated browser window with all tell-tales of automated browser disabled\n",
    "    \"\"\"\n",
    "    options = webdriver.ChromeOptions()\n",
    "    options.add_argument(\"start-maximized\")\n",
    "    \n",
    "    ## NOTE WHAT DO YOU DO TO HIDE BROWSER?\n",
    "    # remove all signs of this being an automated browser\n",
    "    options.add_argument('--disable-blink-features=AutomationControlled')\n",
    "    options.add_experimental_option(\"excludeSwitches\", [\"enable-automation\"])\n",
    "    options.add_experimental_option('useAutomationExtension', False)\n",
    "\n",
    "    # open the browser with the new options\n",
    "    driver = webdriver.Chrome(options=options)\n",
    "    return driver"
   ]
  },
  {
   "cell_type": "code",
   "execution_count": 13,
   "id": "55faec8f",
   "metadata": {},
   "outputs": [],
   "source": [
    "driver = open_browser()"
   ]
  },
  {
   "cell_type": "code",
   "execution_count": 14,
   "id": "e208c8f9",
   "metadata": {},
   "outputs": [],
   "source": [
    "# visit the page\n",
    "url = 'https://zillow.com'\n",
    "driver.get(url)"
   ]
  },
  {
   "cell_type": "markdown",
   "id": "0b4bdbf4",
   "metadata": {},
   "source": [
    "### 2) Find Search Box\n",
    "\n",
    "Use selenium's `find_element` [function](https://selenium-python.readthedocs.io/locating-elements.html?highlight=find_element#locating-elements) to find the search box on the Zillow site.\n",
    "You can use whichever `By` [option](https://selenium-python.readthedocs.io/api.html?highlight=By#locate-elements-by) you feel most comfortable."
   ]
  },
  {
   "cell_type": "code",
   "execution_count": 15,
   "id": "e412ad56",
   "metadata": {},
   "outputs": [
    {
     "data": {
      "text/plain": [
       "<selenium.webdriver.remote.webelement.WebElement (session=\"e7fd8668e183212ef42f078761abfc45\", element=\"B40332A8E5E68ED7536DA1AF5FA2978B_element_30\")>"
      ]
     },
     "execution_count": 15,
     "metadata": {},
     "output_type": "execute_result"
    }
   ],
   "source": [
    "search_box = driver.find_element(\n",
    "    By.XPATH,\n",
    "    '//input[@aria-label=\"Search: Suggestions appear below\"]')\n",
    "search_box"
   ]
  },
  {
   "cell_type": "markdown",
   "id": "74eede8e",
   "metadata": {},
   "source": [
    "### 3) Input a geography into search bar\n",
    "\n",
    "After you've found `search_box` find a way to input or send `search_term` into the input field.\n",
    "\n",
    "Feel free to change `search_term` to where ever you like."
   ]
  },
  {
   "cell_type": "code",
   "execution_count": 16,
   "id": "60e4038e",
   "metadata": {},
   "outputs": [],
   "source": [
    "search_term = 'St. Louis Park, MN ' \n",
    "search_box.send_keys(search_term)"
   ]
  },
  {
   "cell_type": "markdown",
   "id": "d0bd680e",
   "metadata": {},
   "source": [
    "### 4) Make the search\n",
    "\n",
    "Originally, I thought we could get away with just pressing \"ENTER\". If you try that you'll see that listings are not from the geography you're searching.\n",
    "\n",
    "Instead, you'll see a list of suggestions. Click the first suggestion.\n",
    "\n",
    "You can do that by first finding that suggestion, then [clicking](https://saucelabs.com/resources/blog/the-selenium-click-command) on it."
   ]
  },
  {
   "cell_type": "code",
   "execution_count": 17,
   "id": "8f43da8c",
   "metadata": {},
   "outputs": [],
   "source": [
    "search_box.click()\n",
    "first_option = driver.find_element(By.ID, \"react-autowhatever-1--item-0\")"
   ]
  },
  {
   "cell_type": "code",
   "execution_count": 18,
   "id": "ebde0809",
   "metadata": {},
   "outputs": [],
   "source": [
    "# how do you click `first_option` and how to make sure you don't throw an exception?\n",
    "first_option.click()"
   ]
  },
  {
   "cell_type": "markdown",
   "id": "decaf693",
   "metadata": {},
   "source": [
    "### 5) Pick \"For sale,\" if asked\n",
    "You might be prompted to check for rentals or sales. This doesn't always show up, but be prepared to click \"For sale\" if you need to."
   ]
  },
  {
   "cell_type": "code",
   "execution_count": 19,
   "id": "7a067e91",
   "metadata": {},
   "outputs": [],
   "source": [
    "#I don't know how to click the for sale button\n",
    "for_sale = driver.find_element(\n",
    "    By.XPATH, \n",
    "    './/button[contains(text(), \"For sale\")]')"
   ]
  },
  {
   "cell_type": "code",
   "execution_count": 20,
   "id": "25b84e29",
   "metadata": {},
   "outputs": [],
   "source": [
    "for_sale.click()\n",
    "#TK what function to click? Same as 4."
   ]
  },
  {
   "cell_type": "markdown",
   "id": "a930022a",
   "metadata": {},
   "source": [
    "### 6) What are the prices of the houses on the first page?\n",
    "Print the text of each listing's property price below:"
   ]
  },
  {
   "cell_type": "code",
   "execution_count": 28,
   "id": "0ab32743",
   "metadata": {
    "scrolled": false
   },
   "outputs": [
    {
     "name": "stdout",
     "output_type": "stream",
     "text": [
      "$700,000\n",
      "$315,000\n",
      "$229,000\n",
      "$399,900\n",
      "$279,900\n",
      "$365,000\n",
      "$499,900\n",
      "$375,000\n",
      "$679,900\n",
      "$424,900\n",
      "$349,900\n",
      "$395,000\n",
      "$264,900\n",
      "$500,000\n",
      "$229,000\n",
      "$319,900\n",
      "$265,000\n",
      "$275,000\n",
      "$259,900\n",
      "$750,000\n",
      "$500,000\n",
      "$200,000\n",
      "$359,900\n",
      "$247,000\n",
      "$629,900\n",
      "$165,000\n",
      "$415,000\n",
      "$539,900\n",
      "$374,900\n",
      "$395,000\n",
      "$329,900\n",
      "$669,500\n",
      "$234,900\n",
      "$389,900\n",
      "$430,000\n",
      "$435,000\n",
      "$149,900\n",
      "$699,900\n",
      "$220,000\n",
      "$179,900\n",
      "$144,900\n"
     ]
    }
   ],
   "source": [
    "cost_list = []\n",
    "for card in driver.find_elements(By.XPATH, './/span[@data-test = \"property-card-price\"]'):\n",
    "    print(card.text)\n",
    "    cost_list.append(card.text)\n",
    "    \n"
   ]
  },
  {
   "cell_type": "markdown",
   "id": "19bf88a4",
   "metadata": {},
   "source": [
    "Note: you _should_ see more than nine listings.\n",
    "\n",
    "You'll need to find a way to scroll down the page to load each new card. From my tests, each page holds up to 40.\n",
    "\n",
    "This is not a simple task! I found one way to do this below, can you find a better way to do this?"
   ]
  },
  {
   "cell_type": "code",
   "execution_count": 22,
   "id": "57750d8c",
   "metadata": {},
   "outputs": [],
   "source": [
    "N = 0\n",
    "while True:\n",
    "    # get all the listings, and scroll to the last one, then wait two seconds.\n",
    "    cards = driver.find_elements(By.XPATH, './/span[@data-test=\"property-card-price\"]')\n",
    "    last_listing = cards[-1]\n",
    "    \n",
    "    # you can use selenium to issue JavaScript commands:\n",
    "    driver.execute_script(\"arguments[0].scrollIntoView();\", last_listing)\n",
    "    N_cards = len(cards)\n",
    "    if N_cards == N:\n",
    "        break\n",
    "    N = N_cards\n",
    "    time.sleep(2)"
   ]
  },
  {
   "cell_type": "code",
   "execution_count": 23,
   "id": "9be1b20f",
   "metadata": {},
   "outputs": [
    {
     "data": {
      "text/plain": [
       "41"
      ]
     },
     "execution_count": 23,
     "metadata": {},
     "output_type": "execute_result"
    }
   ],
   "source": [
    "# how many postings do we have after loading them all?\n",
    "len(cards)"
   ]
  },
  {
   "cell_type": "markdown",
   "id": "70d3837a",
   "metadata": {},
   "source": [
    "Is there a better way to do this? Feel free to experiment, but it's not necessary for the assignment."
   ]
  },
  {
   "cell_type": "markdown",
   "id": "b50dfbf7",
   "metadata": {},
   "source": [
    "### 7) Save the results as HTML\n",
    "Save the page source to `html_out` as an HTML file"
   ]
  },
  {
   "cell_type": "code",
   "execution_count": 66,
   "id": "3f358eaa",
   "metadata": {},
   "outputs": [],
   "source": [
    "html_out = 'data/zillow_selenium_test.html'"
   ]
  },
  {
   "cell_type": "code",
   "execution_count": 24,
   "id": "9c3ac5de",
   "metadata": {},
   "outputs": [],
   "source": [
    "from selenium import webdriver\n",
    "import codecs"
   ]
  },
  {
   "cell_type": "code",
   "execution_count": 27,
   "id": "65aa6d22",
   "metadata": {},
   "outputs": [],
   "source": [
    "n = os.path.join(\"PageSave.html\")\n",
    "f = codecs.open(n, \"w\", \"utf−8\")\n",
    "h = driver.page_source\n",
    "f.write(h)"
   ]
  },
  {
   "cell_type": "code",
   "execution_count": 24,
   "id": "9c52a54f",
   "metadata": {},
   "outputs": [],
   "source": [
    "next_page = driver.#TK"
   ]
  },
  {
   "cell_type": "code",
   "execution_count": 25,
   "id": "2d5ad88b",
   "metadata": {},
   "outputs": [],
   "source": [
    "#TK click it (yes this is repetative)"
   ]
  },
  {
   "cell_type": "markdown",
   "id": "9ff9424b",
   "metadata": {},
   "source": [
    "### 9) Cycle through each page of results\n",
    "Above we outlined each step, now put it all together here and collect as many results as you can. Add some `time.sleep(2)` (or some other reasonable time) between each step.\n",
    "\n",
    "You can stop after the 5th page to save time.\n",
    "\n",
    "Note: you can parse price from the listings directly from Selenium here, or save each page as HTML and parse them after you collect time. I recommend the latter, but for the sake of the homework feel free to take the shortcut."
   ]
  },
  {
   "cell_type": "code",
   "execution_count": null,
   "id": "6ab6b0f1",
   "metadata": {},
   "outputs": [],
   "source": [
    "# first close the browser to start anew\n",
    "driver.close()"
   ]
  },
  {
   "cell_type": "code",
   "execution_count": 27,
   "id": "2cbbc073",
   "metadata": {},
   "outputs": [],
   "source": [
    "def get_results_on_page(driver, fn_out):\n",
    "    \"\"\"\n",
    "    Scrolls to load all listings and then saves them to `fn_out`.\n",
    "    If you found a better approach, replace this function\n",
    "    \"\"\"\n",
    "    N = 0\n",
    "    while True:\n",
    "        # get all the listings, and scroll to the last one, then wait two seconds.\n",
    "        cards = driver.find_elements(By.XPATH, './/span[@data-test=\"property-card-price\"]')\n",
    "        last_listing = cards[-1]\n",
    "\n",
    "        # you can use selenium to issue JavaScript commands:\n",
    "        driver.execute_script(\"arguments[0].scrollIntoView();\", last_listing)\n",
    "        N_cards = len(cards)\n",
    "        if N_cards == N:\n",
    "            break\n",
    "        N = N_cards\n",
    "        time.sleep(2)\n",
    "        \n",
    "    # how to save what the emulator sees\n",
    "    with open(fn_out, 'w') as f:\n",
    "        f.write(driver.page_source)"
   ]
  },
  {
   "cell_type": "code",
   "execution_count": 1,
   "id": "5eed367e",
   "metadata": {},
   "outputs": [],
   "source": [
    "search_term = 'Beacon, NY' # this can be anywhere\n",
    "\n",
    "# open the browser and visit the `url`.\n",
    "# TK\n",
    "\n",
    "# find the search box\n",
    "# TK\n",
    "\n",
    "# select the first suggestion\n",
    "# TK\n",
    "\n",
    "# select only for sale listings...\n",
    "# TK\n",
    "\n",
    "# save each page of results\n",
    "page_n = 0\n",
    "next_page = #TK\n",
    "while len(next_page) > 0:\n",
    "    fn_out = f'data/zillow_page_{page_n}.html'\n",
    "    get_results_on_page(driver, fn_out)\n",
    "    page_n += 1\n",
    "\n",
    "    # stop after 10\n",
    "    if page_n == 10:\n",
    "        break\n",
    "        \n",
    "    # see if there are more pages of results\n",
    "    next_page = driver.#TK\n",
    "    if next_page:\n",
    "        try:\n",
    "            next_page[0].click()\n",
    "        except Exception as e:\n",
    "            print(e)\n",
    "    time.sleep(2)"
   ]
  },
  {
   "cell_type": "markdown",
   "id": "b0d34d09",
   "metadata": {},
   "source": [
    "### 10) Parse the prices\n",
    "\n",
    "Parse the prices into a list or a Pandas Series, and list the median price."
   ]
  },
  {
   "cell_type": "code",
   "execution_count": 37,
   "id": "04c29cc1",
   "metadata": {},
   "outputs": [],
   "source": [
    "prices = pd.DataFrame(cost_list, columns = ['price'])"
   ]
  },
  {
   "cell_type": "code",
   "execution_count": 38,
   "id": "50824b61",
   "metadata": {},
   "outputs": [],
   "source": [
    "prices['price'] = prices['price'].str.replace(\"$\", '')\n",
    "prices['price'] = prices['price'].str.replace(\",\", '')"
   ]
  },
  {
   "cell_type": "code",
   "execution_count": 43,
   "id": "1ea396e3",
   "metadata": {},
   "outputs": [],
   "source": [
    "prices = prices.astype(int)"
   ]
  },
  {
   "cell_type": "code",
   "execution_count": 44,
   "id": "50416365",
   "metadata": {},
   "outputs": [
    {
     "data": {
      "text/plain": [
       "365000.0"
      ]
     },
     "execution_count": 44,
     "metadata": {},
     "output_type": "execute_result"
    }
   ],
   "source": [
    "prices['price'].median()\n",
    "#the median is 365,000"
   ]
  },
  {
   "cell_type": "markdown",
   "id": "9e03bea4",
   "metadata": {},
   "source": [
    "## Extra credit\n",
    "- What is the median price per square foot?\n",
    "- Which realtor has the most listings?\n",
    "- Can you stain listings over $1M in red and take a full-screenshot?"
   ]
  },
  {
   "cell_type": "code",
   "execution_count": null,
   "id": "7ed87d41",
   "metadata": {},
   "outputs": [],
   "source": []
  }
 ],
 "metadata": {
  "kernelspec": {
   "display_name": "Python 3 (ipykernel)",
   "language": "python",
   "name": "python3"
  },
  "language_info": {
   "codemirror_mode": {
    "name": "ipython",
    "version": 3
   },
   "file_extension": ".py",
   "mimetype": "text/x-python",
   "name": "python",
   "nbconvert_exporter": "python",
   "pygments_lexer": "ipython3",
   "version": "3.10.11"
  }
 },
 "nbformat": 4,
 "nbformat_minor": 5
}
